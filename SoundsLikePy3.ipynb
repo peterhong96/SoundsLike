{
 "cells": [
  {
   "cell_type": "code",
   "execution_count": 85,
   "metadata": {
    "collapsed": true
   },
   "outputs": [],
   "source": [
    "import string"
   ]
  },
  {
   "cell_type": "code",
   "execution_count": 86,
   "metadata": {
    "collapsed": false
   },
   "outputs": [],
   "source": [
    "f = open('catinthehat.txt')\n",
    "\n",
    "d = {}\n"
   ]
  },
  {
   "cell_type": "code",
   "execution_count": 87,
   "metadata": {
    "collapsed": false
   },
   "outputs": [],
   "source": [
    "#Set up Markov Chain. Adjacency list with frequency\n",
    "prev = \"\"\n",
    "\n",
    "for word in f.read().split():\n",
    "    #strip punctuation and make lowercase\n",
    "    curr = word.translate({ord(c): None for c in '.,?!@#$'}).lower()\n",
    "    \n",
    "    \"\"\"\n",
    "    pair = (prev,s)\n",
    "    #populate tuple dictionary. is effectively adjacency list\n",
    "    if(pair not in d):\n",
    "        d[pair] = 0\n",
    "    d[pair] += 1\n",
    "    \"\"\"\n",
    "    \n",
    "    if(prev not in d):\n",
    "        d[prev] = {}\n",
    "    \n",
    "    if(curr not in d[prev]):\n",
    "        d[prev][curr] = 0\n",
    "    \n",
    "    d[prev][curr] += 1\n",
    "    \n",
    "    prev = s"
   ]
  },
  {
   "cell_type": "code",
   "execution_count": 88,
   "metadata": {
    "collapsed": false
   },
   "outputs": [
    {
     "ename": "KeyError",
     "evalue": "'not'",
     "output_type": "error",
     "traceback": [
      "\u001b[0;31m---------------------------------------------------------------------------\u001b[0m",
      "\u001b[0;31mKeyError\u001b[0m                                  Traceback (most recent call last)",
      "\u001b[0;32m<ipython-input-88-5e547e5e69f2>\u001b[0m in \u001b[0;36m<module>\u001b[0;34m()\u001b[0m\n\u001b[0;32m----> 1\u001b[0;31m \u001b[0mprint\u001b[0m\u001b[0;34m(\u001b[0m\u001b[0md\u001b[0m\u001b[0;34m[\u001b[0m\u001b[0;34m\"not\"\u001b[0m\u001b[0;34m]\u001b[0m\u001b[0;34m)\u001b[0m\u001b[0;34m\u001b[0m\u001b[0m\n\u001b[0m",
      "\u001b[0;31mKeyError\u001b[0m: 'not'"
     ]
    }
   ],
   "source": []
  },
  {
   "cell_type": "code",
   "execution_count": null,
   "metadata": {
    "collapsed": true
   },
   "outputs": [],
   "source": []
  }
 ],
 "metadata": {
  "anaconda-cloud": {},
  "kernelspec": {
   "display_name": "Python [conda root]",
   "language": "python",
   "name": "conda-root-py"
  },
  "language_info": {
   "codemirror_mode": {
    "name": "ipython",
    "version": 3
   },
   "file_extension": ".py",
   "mimetype": "text/x-python",
   "name": "python",
   "nbconvert_exporter": "python",
   "pygments_lexer": "ipython3",
   "version": "3.5.2"
  }
 },
 "nbformat": 4,
 "nbformat_minor": 1
}
